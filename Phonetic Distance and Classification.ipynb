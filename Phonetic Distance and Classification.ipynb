{
 "cells": [
  {
   "cell_type": "markdown",
   "metadata": {},
   "source": [
    "# The fun starts here"
   ]
  },
  {
   "cell_type": "markdown",
   "metadata": {},
   "source": [
    "**Phonetic Distance and Classification**\n",
    "\n",
    "This task to generate the phonetic distance requires that:\n",
    "\n",
    "1. We prepare n healthy speech corpus **($C_{i}$, 1 ≤ i ≤ n)**, and for each corpus, we determinate the correspond phonetic model **$M_{i}$, (1 ≤ i ≤ n)**.\n",
    "2. We define **S = { αij; 1 ≤ i,j ≤ n and i≠j }** a set of angles that separate **Mi** and **Mj (αij=αji and αii=0)**. \n",
    "3. We define the value **Max = maximum{S}**.\n",
    "4. We define the value **δ = standard deviation{S}**.\n",
    "5. We define the value **Avg = average{S}**.\n",
    "6. We calculate **β = Max+|Avg-δ|**.\n",
    "\n",
    "To calculate the set **S**, we follow these scalar product formulas: \n",
    "\n",
    "$$M_{i} \\cdot M_{j}=\\sum_{k=1}^{n}M_{i}[k]M_{j}[k]$$\n",
    "\n",
    "$M_{i} \\cdot M_{j}=\\left \\| M_{i} \\right \\| \\cdot \\left \\| M_{j} \\right \\|\\cdot \\cos \\left (\\alpha  \\right )$ with $\\alpha$ is the angle that separates between $M_{i}$ and $M_{j}$\n",
    "\n",
    "$$\\cos \\left (\\alpha  \\right ) = \\frac{M_{i} \\cdot M_{j}}{\\left \\| M_{i} \\right \\| \\cdot \\left \\| M_{j} \\right \\|}$$"
   ]
  },
  {
   "cell_type": "markdown",
   "metadata": {},
   "source": [
    "===========================================================================================================================\n",
    "1. We prepare n healthy speech corpus **($C_{i}$, 1 ≤ i ≤ 4)**, and for each corpus, we determinate the correspond phonetic model **$M_{i}$, (1 ≤ i ≤ 4)**."
   ]
  },
  {
   "cell_type": "code",
   "execution_count": 1,
   "metadata": {},
   "outputs": [
    {
     "name": "stdout",
     "output_type": "stream",
     "text": [
      "Model_1, size: 784, 1st 5 values : [0.71624843 0.1360488  0.51711595 0.47634085 0.31647929 0.18841945]\n",
      "Model_2, size: 784, 1st 5 values : [0.80277462 0.08724515 0.97000734 0.06351311 0.73628854 0.83262483]\n",
      "Model_3, size: 784, 1st 5 values : [0.94972423 0.34944719 0.97991118 0.82702717 0.12517481 0.68413212]\n",
      "Model_4, size: 784, 1st 5 values : [0.66360046 0.81371326 0.02977952 0.05127869 0.62377469 0.65302901]\n"
     ]
    }
   ],
   "source": [
    "import numpy as np\n",
    "# Possible bi-phonemes arrangements 28 * 28  = 784 \n",
    "# Each vector is of size 784\n",
    "# np.random.random \n",
    "#           Return random vector with values in the half-open interval [0.0, 1.0).\n",
    "#           random.random takes the size of the vector as argument.\n",
    "#           We'll use it just for simplicity for now.\n",
    "#           The code for corpus cleaning (preparation) is ready, but I'll not use it here.\n",
    "#           The values provided by np.random.random are sufficient for this test\n",
    "Model_1 = np.random.random(784)\n",
    "Model_2 = np.random.random(784)\n",
    "Model_3 = np.random.random(784)\n",
    "Model_4 = np.random.random(784)\n",
    "\n",
    "Models = [Model_1, Model_2, Model_3, Model_4]\n",
    "\n",
    "# Print each Model size and first three coefficients\n",
    "# Just for logging\n",
    "for index, Model in enumerate(Models, start=1):\n",
    "    print(f'Model_{index}, size: {Model.size}, 1st 5 values : {Model[:6]}')"
   ]
  },
  {
   "cell_type": "markdown",
   "metadata": {},
   "source": [
    "==========================================================================\n",
    "2. We define **S = { αij; 1 ≤ i,j ≤ n and i≠j }** a set of angles that separate **Mi** and **Mj (αij=αji and αii=0)**. \n",
    "3. We define the value **Max = maximum{S}**.\n",
    "4. We define the value **δ = standard deviation{S}**.\n",
    "5. We define the value **Avg = average{S}**.\n",
    "6. We calculate **β = Max+|Avg-δ|**.\n",
    "\n",
    "To calculate the set **S**, we follow these scalar product formulas: \n",
    "\n",
    "$$M_{i} \\cdot M_{j}=\\sum_{k=1}^{n}M_{i}[k]M_{j}[k]$$\n",
    "\n",
    "$M_{i} \\cdot M_{j}=\\left \\| M_{i} \\right \\| \\cdot \\left \\| M_{j} \\right \\|\\cdot \\cos \\left (\\alpha  \\right )$ with $\\alpha$ is the angle that separates between $M_{i}$ and $M_{j}$\n",
    "\n",
    "$$\\cos \\left (\\alpha  \\right ) = \\frac{M_{i} \\cdot M_{j}}{\\left \\| M_{i} \\right \\| \\cdot \\left \\| M_{j} \\right \\|}$$ "
   ]
  },
  {
   "cell_type": "code",
   "execution_count": 2,
   "metadata": {},
   "outputs": [],
   "source": [
    "# lehna t5ablet 3liya loumour\n",
    "# 5aterni d3if fil math hhhhhhhhhhhhh"
   ]
  },
  {
   "cell_type": "markdown",
   "metadata": {},
   "source": [
    "$$\\cos \\left (\\alpha  \\right ) = \\frac{M_{i} \\cdot M_{j}}{\\left \\| M_{i} \\right \\| \\cdot \\left \\| M_{j} \\right \\|}$$ "
   ]
  },
  {
   "cell_type": "code",
   "execution_count": 3,
   "metadata": {},
   "outputs": [
    {
     "name": "stdout",
     "output_type": "stream",
     "text": [
      "cos(α) = 39514.71718870403 / 68945.13077615455 = 0.5731328194444537\n"
     ]
    }
   ],
   "source": [
    "from functools import reduce\n",
    "from numpy.linalg import norm\n",
    "\n",
    "# cos(alphat) = \n",
    "# nominator = np.dot(np.dot(np.dot(Model_1, Model_2), Model_3), Model_4)\n",
    "# or simply (pythonic way)\n",
    "nominator = reduce(np.dot, Models) # Scalar product of the 4 models in the list Models\n",
    "\n",
    "# denominator = norm(Model_1)*norm(Model_2)*norm(Model_3)*norm(Model_4)\n",
    "# or simply (pythonic way)\n",
    "denominator = reduce(lambda x, y: x*y, [norm(model) for model in Models])\n",
    "\n",
    "\n",
    "cos_alphat = nominator / denominator # cos(α)\n",
    "\n",
    "print(f'cos(α) = {nominator} / {denominator} = {cos_alphat}')\n",
    "\n",
    "########### Kamelna men cos(α) ########### Nemchou leli ba3dou ###########\n"
   ]
  },
  {
   "cell_type": "markdown",
   "metadata": {},
   "source": [
    "$$M_{i} \\cdot M_{j}=\\sum_{k=1}^{n}M_{i}[k]M_{j}[k]$$\n",
    "$$M_{i} \\cdot M_{j}=\\left \\| M_{i} \\right \\| \\cdot \\left \\| M_{j} \\right \\|\\cdot \\cos \\left (\\alpha  \\right )$$"
   ]
  },
  {
   "cell_type": "markdown",
   "metadata": {},
   "source": [
    "**Lehna sayi ma3atech najem dma8i mahouch la9i thniya hhhhhh**\n",
    "# Au secours\n",
    "\n",
    "### References \n",
    "- [Dot produt of tow arrays](https://docs.scipy.org/doc/numpy/reference/generated/numpy.dot.html)\n",
    "- [Linear algebra (numpy)](https://docs.scipy.org/doc/numpy/reference/routines.linalg.html)"
   ]
  }
 ],
 "metadata": {
  "kernelspec": {
   "display_name": "Python 3",
   "language": "python",
   "name": "python3"
  },
  "language_info": {
   "codemirror_mode": {
    "name": "ipython",
    "version": 3
   },
   "file_extension": ".py",
   "mimetype": "text/x-python",
   "name": "python",
   "nbconvert_exporter": "python",
   "pygments_lexer": "ipython3",
   "version": "3.7.1"
  }
 },
 "nbformat": 4,
 "nbformat_minor": 2
}
